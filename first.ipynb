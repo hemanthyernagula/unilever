{
 "cells": [
  {
   "cell_type": "code",
   "execution_count": 1,
   "metadata": {},
   "outputs": [],
   "source": [
    "import os\n",
    "import pandas as pd\n",
    "from pandas_profiling import ProfileReport"
   ]
  },
  {
   "cell_type": "code",
   "execution_count": 2,
   "metadata": {},
   "outputs": [
    {
     "data": {
      "text/plain": [
       "['uni_data.xlsx']"
      ]
     },
     "execution_count": 2,
     "metadata": {},
     "output_type": "execute_result"
    }
   ],
   "source": [
    "os.listdir('data')"
   ]
  },
  {
   "cell_type": "code",
   "execution_count": 3,
   "metadata": {
    "scrolled": true
   },
   "outputs": [
    {
     "name": "stdout",
     "output_type": "stream",
     "text": [
      "Shape of the data: (39, 39)\n"
     ]
    },
    {
     "data": {
      "text/html": [
       "<div>\n",
       "<style scoped>\n",
       "    .dataframe tbody tr th:only-of-type {\n",
       "        vertical-align: middle;\n",
       "    }\n",
       "\n",
       "    .dataframe tbody tr th {\n",
       "        vertical-align: top;\n",
       "    }\n",
       "\n",
       "    .dataframe thead th {\n",
       "        text-align: right;\n",
       "    }\n",
       "</style>\n",
       "<table border=\"1\" class=\"dataframe\">\n",
       "  <thead>\n",
       "    <tr style=\"text-align: right;\">\n",
       "      <th></th>\n",
       "      <th>Period</th>\n",
       "      <th>EQ</th>\n",
       "      <th>Social_Search_Impressions</th>\n",
       "      <th>Social_Search_Working_cost</th>\n",
       "      <th>Digital_Impressions</th>\n",
       "      <th>Digital_Working_cost</th>\n",
       "      <th>Print_Impressions.Ads40</th>\n",
       "      <th>Print_Working_Cost.Ads50</th>\n",
       "      <th>OOH_Impressions</th>\n",
       "      <th>OOH_Working_Cost</th>\n",
       "      <th>...</th>\n",
       "      <th>Magazine_Impressions_pct</th>\n",
       "      <th>TV_GRP</th>\n",
       "      <th>Competitor1_RPI</th>\n",
       "      <th>Competitor2_RPI</th>\n",
       "      <th>Competitor3_RPI</th>\n",
       "      <th>Competitor4_RPI</th>\n",
       "      <th>EQ_Category</th>\n",
       "      <th>EQ_Subcategory</th>\n",
       "      <th>pct_PromoMarketDollars_Subcategory</th>\n",
       "      <th>RPI_Subcategory</th>\n",
       "    </tr>\n",
       "  </thead>\n",
       "  <tbody>\n",
       "    <tr>\n",
       "      <th>0</th>\n",
       "      <td>2016 - Period:1</td>\n",
       "      <td>504.784933</td>\n",
       "      <td>2019283.0</td>\n",
       "      <td>5493.0</td>\n",
       "      <td>37148.2</td>\n",
       "      <td>2045.282</td>\n",
       "      <td>0.000012</td>\n",
       "      <td>0.000012</td>\n",
       "      <td>1.203045e+09</td>\n",
       "      <td>2220633.0</td>\n",
       "      <td>...</td>\n",
       "      <td>27.702433</td>\n",
       "      <td>21.300</td>\n",
       "      <td>97.173365</td>\n",
       "      <td>35.557371</td>\n",
       "      <td>44.502717</td>\n",
       "      <td>63.377268</td>\n",
       "      <td>1728388.673</td>\n",
       "      <td>331927.5394</td>\n",
       "      <td>0.162732</td>\n",
       "      <td>40.560563</td>\n",
       "    </tr>\n",
       "    <tr>\n",
       "      <th>1</th>\n",
       "      <td>2016 - Period:2</td>\n",
       "      <td>490.226477</td>\n",
       "      <td>4564738.0</td>\n",
       "      <td>12938.0</td>\n",
       "      <td>50886.8</td>\n",
       "      <td>2370.584</td>\n",
       "      <td>0.000014</td>\n",
       "      <td>0.000015</td>\n",
       "      <td>1.944356e+09</td>\n",
       "      <td>469895.0</td>\n",
       "      <td>...</td>\n",
       "      <td>21.432628</td>\n",
       "      <td>12.334</td>\n",
       "      <td>97.850760</td>\n",
       "      <td>37.223072</td>\n",
       "      <td>45.720077</td>\n",
       "      <td>62.731742</td>\n",
       "      <td>1900859.879</td>\n",
       "      <td>334611.3806</td>\n",
       "      <td>0.231650</td>\n",
       "      <td>40.046301</td>\n",
       "    </tr>\n",
       "    <tr>\n",
       "      <th>2</th>\n",
       "      <td>2016 - Period:3</td>\n",
       "      <td>479.244686</td>\n",
       "      <td>1029384.0</td>\n",
       "      <td>6546.0</td>\n",
       "      <td>253333.2</td>\n",
       "      <td>3180.888</td>\n",
       "      <td>0.000016</td>\n",
       "      <td>0.000017</td>\n",
       "      <td>9.984054e+08</td>\n",
       "      <td>4465061.0</td>\n",
       "      <td>...</td>\n",
       "      <td>29.726275</td>\n",
       "      <td>23.213</td>\n",
       "      <td>96.397739</td>\n",
       "      <td>40.800563</td>\n",
       "      <td>41.822953</td>\n",
       "      <td>62.090417</td>\n",
       "      <td>2036436.906</td>\n",
       "      <td>387148.3582</td>\n",
       "      <td>0.125394</td>\n",
       "      <td>40.411115</td>\n",
       "    </tr>\n",
       "    <tr>\n",
       "      <th>3</th>\n",
       "      <td>2016 - Period:4</td>\n",
       "      <td>489.057428</td>\n",
       "      <td>902938.0</td>\n",
       "      <td>3928.0</td>\n",
       "      <td>3426239.0</td>\n",
       "      <td>13595.398</td>\n",
       "      <td>0.000016</td>\n",
       "      <td>0.000019</td>\n",
       "      <td>3.039816e+09</td>\n",
       "      <td>1031855.0</td>\n",
       "      <td>...</td>\n",
       "      <td>30.326275</td>\n",
       "      <td>14.456</td>\n",
       "      <td>98.936519</td>\n",
       "      <td>36.576140</td>\n",
       "      <td>41.578429</td>\n",
       "      <td>63.374358</td>\n",
       "      <td>2113635.013</td>\n",
       "      <td>482489.6740</td>\n",
       "      <td>0.056603</td>\n",
       "      <td>42.213246</td>\n",
       "    </tr>\n",
       "    <tr>\n",
       "      <th>4</th>\n",
       "      <td>2016 - Period:5</td>\n",
       "      <td>477.031994</td>\n",
       "      <td>1343454.0</td>\n",
       "      <td>28374.0</td>\n",
       "      <td>552197.8</td>\n",
       "      <td>3983.134</td>\n",
       "      <td>0.000016</td>\n",
       "      <td>0.000019</td>\n",
       "      <td>9.622004e+08</td>\n",
       "      <td>2842722.0</td>\n",
       "      <td>...</td>\n",
       "      <td>31.702433</td>\n",
       "      <td>25.300</td>\n",
       "      <td>100.509969</td>\n",
       "      <td>36.032016</td>\n",
       "      <td>42.602412</td>\n",
       "      <td>63.291934</td>\n",
       "      <td>2402211.102</td>\n",
       "      <td>629826.6484</td>\n",
       "      <td>0.065059</td>\n",
       "      <td>43.345578</td>\n",
       "    </tr>\n",
       "  </tbody>\n",
       "</table>\n",
       "<p>5 rows × 39 columns</p>\n",
       "</div>"
      ],
      "text/plain": [
       "            Period          EQ  Social_Search_Impressions  \\\n",
       "0  2016 - Period:1  504.784933                  2019283.0   \n",
       "1  2016 - Period:2  490.226477                  4564738.0   \n",
       "2  2016 - Period:3  479.244686                  1029384.0   \n",
       "3  2016 - Period:4  489.057428                   902938.0   \n",
       "4  2016 - Period:5  477.031994                  1343454.0   \n",
       "\n",
       "   Social_Search_Working_cost  Digital_Impressions  Digital_Working_cost  \\\n",
       "0                      5493.0              37148.2              2045.282   \n",
       "1                     12938.0              50886.8              2370.584   \n",
       "2                      6546.0             253333.2              3180.888   \n",
       "3                      3928.0            3426239.0             13595.398   \n",
       "4                     28374.0             552197.8              3983.134   \n",
       "\n",
       "   Print_Impressions.Ads40  Print_Working_Cost.Ads50  OOH_Impressions  \\\n",
       "0                 0.000012                  0.000012     1.203045e+09   \n",
       "1                 0.000014                  0.000015     1.944356e+09   \n",
       "2                 0.000016                  0.000017     9.984054e+08   \n",
       "3                 0.000016                  0.000019     3.039816e+09   \n",
       "4                 0.000016                  0.000019     9.622004e+08   \n",
       "\n",
       "   OOH_Working_Cost  ...  Magazine_Impressions_pct  TV_GRP  Competitor1_RPI  \\\n",
       "0         2220633.0  ...                 27.702433  21.300        97.173365   \n",
       "1          469895.0  ...                 21.432628  12.334        97.850760   \n",
       "2         4465061.0  ...                 29.726275  23.213        96.397739   \n",
       "3         1031855.0  ...                 30.326275  14.456        98.936519   \n",
       "4         2842722.0  ...                 31.702433  25.300       100.509969   \n",
       "\n",
       "   Competitor2_RPI  Competitor3_RPI  Competitor4_RPI  EQ_Category  \\\n",
       "0        35.557371        44.502717        63.377268  1728388.673   \n",
       "1        37.223072        45.720077        62.731742  1900859.879   \n",
       "2        40.800563        41.822953        62.090417  2036436.906   \n",
       "3        36.576140        41.578429        63.374358  2113635.013   \n",
       "4        36.032016        42.602412        63.291934  2402211.102   \n",
       "\n",
       "   EQ_Subcategory  pct_PromoMarketDollars_Subcategory  RPI_Subcategory  \n",
       "0     331927.5394                            0.162732        40.560563  \n",
       "1     334611.3806                            0.231650        40.046301  \n",
       "2     387148.3582                            0.125394        40.411115  \n",
       "3     482489.6740                            0.056603        42.213246  \n",
       "4     629826.6484                            0.065059        43.345578  \n",
       "\n",
       "[5 rows x 39 columns]"
      ]
     },
     "execution_count": 3,
     "metadata": {},
     "output_type": "execute_result"
    }
   ],
   "source": [
    "data = pd.read_excel('data/uni_data.xlsx')\n",
    "print('Shape of the data:',data.shape)\n",
    "data.head()"
   ]
  },
  {
   "cell_type": "code",
   "execution_count": 11,
   "metadata": {
    "scrolled": true
   },
   "outputs": [
    {
     "data": {
      "application/vnd.jupyter.widget-view+json": {
       "model_id": "f2c3748a61e24995abec6df49cba7d2a",
       "version_major": 2,
       "version_minor": 0
      },
      "text/plain": [
       "HBox(children=(FloatProgress(value=0.0, description='variables', max=39.0, style=ProgressStyle(description_wid…"
      ]
     },
     "metadata": {},
     "output_type": "display_data"
    },
    {
     "name": "stdout",
     "output_type": "stream",
     "text": [
      "\n"
     ]
    },
    {
     "data": {
      "application/vnd.jupyter.widget-view+json": {
       "model_id": "bed14326c124446dac76aa2038a268a6",
       "version_major": 2,
       "version_minor": 0
      },
      "text/plain": [
       "HBox(children=(FloatProgress(value=0.0, description='correlations', max=6.0, style=ProgressStyle(description_w…"
      ]
     },
     "metadata": {},
     "output_type": "display_data"
    },
    {
     "name": "stdout",
     "output_type": "stream",
     "text": [
      "\n"
     ]
    },
    {
     "data": {
      "application/vnd.jupyter.widget-view+json": {
       "model_id": "5efa1d1be2464551902474ca3faa7940",
       "version_major": 2,
       "version_minor": 0
      },
      "text/plain": [
       "HBox(children=(FloatProgress(value=0.0, description='interactions [continuous]', max=1444.0, style=ProgressSty…"
      ]
     },
     "metadata": {},
     "output_type": "display_data"
    },
    {
     "name": "stdout",
     "output_type": "stream",
     "text": [
      "\n"
     ]
    },
    {
     "data": {
      "application/vnd.jupyter.widget-view+json": {
       "model_id": "81a08eba3a694c5aa71659aaa4980384",
       "version_major": 2,
       "version_minor": 0
      },
      "text/plain": [
       "HBox(children=(FloatProgress(value=0.0, description='table', max=1.0, style=ProgressStyle(description_width='i…"
      ]
     },
     "metadata": {},
     "output_type": "display_data"
    },
    {
     "name": "stdout",
     "output_type": "stream",
     "text": [
      "\n"
     ]
    },
    {
     "data": {
      "application/vnd.jupyter.widget-view+json": {
       "model_id": "0789272b34d341a29c5a5dae7d97b06f",
       "version_major": 2,
       "version_minor": 0
      },
      "text/plain": [
       "HBox(children=(FloatProgress(value=0.0, description='missing', max=2.0, style=ProgressStyle(description_width=…"
      ]
     },
     "metadata": {},
     "output_type": "display_data"
    },
    {
     "name": "stdout",
     "output_type": "stream",
     "text": [
      "\n"
     ]
    },
    {
     "data": {
      "application/vnd.jupyter.widget-view+json": {
       "model_id": "1e6c80c1c24246d698a7f7293a905637",
       "version_major": 2,
       "version_minor": 0
      },
      "text/plain": [
       "HBox(children=(FloatProgress(value=0.0, description='warnings', max=3.0, style=ProgressStyle(description_width…"
      ]
     },
     "metadata": {},
     "output_type": "display_data"
    },
    {
     "name": "stdout",
     "output_type": "stream",
     "text": [
      "\n"
     ]
    },
    {
     "data": {
      "application/vnd.jupyter.widget-view+json": {
       "model_id": "ce11d52e8e0047b3a101ea3aed71da54",
       "version_major": 2,
       "version_minor": 0
      },
      "text/plain": [
       "HBox(children=(FloatProgress(value=0.0, description='package', max=1.0, style=ProgressStyle(description_width=…"
      ]
     },
     "metadata": {},
     "output_type": "display_data"
    },
    {
     "name": "stdout",
     "output_type": "stream",
     "text": [
      "\n"
     ]
    },
    {
     "data": {
      "application/vnd.jupyter.widget-view+json": {
       "model_id": "e0478d5c6d9e48e28091efa908da1664",
       "version_major": 2,
       "version_minor": 0
      },
      "text/plain": [
       "HBox(children=(FloatProgress(value=0.0, description='build report structure', max=1.0, style=ProgressStyle(des…"
      ]
     },
     "metadata": {},
     "output_type": "display_data"
    },
    {
     "name": "stdout",
     "output_type": "stream",
     "text": [
      "\n"
     ]
    }
   ],
   "source": [
    "profile = ProfileReport(data,title='Pandas Profiling Report', html={'style':{'full_width':True}})"
   ]
  },
  {
   "cell_type": "code",
   "execution_count": null,
   "metadata": {},
   "outputs": [],
   "source": [
    "profile.to_file(output_file='profile_report.html')"
   ]
  },
  {
   "cell_type": "code",
   "execution_count": null,
   "metadata": {},
   "outputs": [],
   "source": []
  }
 ],
 "metadata": {
  "kernelspec": {
   "display_name": "Python 3",
   "language": "python",
   "name": "python3"
  },
  "language_info": {
   "codemirror_mode": {
    "name": "ipython",
    "version": 3
   },
   "file_extension": ".py",
   "mimetype": "text/x-python",
   "name": "python",
   "nbconvert_exporter": "python",
   "pygments_lexer": "ipython3",
   "version": "3.6.9"
  }
 },
 "nbformat": 4,
 "nbformat_minor": 4
}
